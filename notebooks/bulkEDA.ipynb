{
 "cells": [
  {
   "cell_type": "code",
   "execution_count": 1,
   "metadata": {},
   "outputs": [],
   "source": [
    "import json"
   ]
  },
  {
   "cell_type": "code",
   "execution_count": 5,
   "metadata": {},
   "outputs": [],
   "source": [
    "with open('../data/bulk/images/art.json') as f:\n",
    "    \n",
    "    art = json.load(f)"
   ]
  },
  {
   "cell_type": "code",
   "execution_count": 10,
   "metadata": {},
   "outputs": [
    {
     "data": {
      "text/plain": [
       "{'object': 'card',\n",
       " 'id': '0000579f-7b35-4ed3-b44c-db2a538066fe',\n",
       " 'oracle_id': '44623693-51d6-49ad-8cd7-140505caf02f',\n",
       " 'multiverse_ids': [109722],\n",
       " 'mtgo_id': 25527,\n",
       " 'mtgo_foil_id': 25528,\n",
       " 'tcgplayer_id': 14240,\n",
       " 'cardmarket_id': 13850,\n",
       " 'name': 'Fury Sliver',\n",
       " 'lang': 'en',\n",
       " 'released_at': '2006-10-06',\n",
       " 'uri': 'https://api.scryfall.com/cards/0000579f-7b35-4ed3-b44c-db2a538066fe',\n",
       " 'scryfall_uri': 'https://scryfall.com/card/tsp/157/fury-sliver?utm_source=api',\n",
       " 'layout': 'normal',\n",
       " 'highres_image': True,\n",
       " 'image_status': 'highres_scan',\n",
       " 'image_uris': {'small': 'https://c1.scryfall.com/file/scryfall-cards/small/front/0/0/0000579f-7b35-4ed3-b44c-db2a538066fe.jpg?1562894979',\n",
       "  'normal': 'https://c1.scryfall.com/file/scryfall-cards/normal/front/0/0/0000579f-7b35-4ed3-b44c-db2a538066fe.jpg?1562894979',\n",
       "  'large': 'https://c1.scryfall.com/file/scryfall-cards/large/front/0/0/0000579f-7b35-4ed3-b44c-db2a538066fe.jpg?1562894979',\n",
       "  'png': 'https://c1.scryfall.com/file/scryfall-cards/png/front/0/0/0000579f-7b35-4ed3-b44c-db2a538066fe.png?1562894979',\n",
       "  'art_crop': 'https://c1.scryfall.com/file/scryfall-cards/art_crop/front/0/0/0000579f-7b35-4ed3-b44c-db2a538066fe.jpg?1562894979',\n",
       "  'border_crop': 'https://c1.scryfall.com/file/scryfall-cards/border_crop/front/0/0/0000579f-7b35-4ed3-b44c-db2a538066fe.jpg?1562894979'},\n",
       " 'mana_cost': '{5}{R}',\n",
       " 'cmc': 6.0,\n",
       " 'type_line': 'Creature — Sliver',\n",
       " 'oracle_text': 'All Sliver creatures have double strike.',\n",
       " 'power': '3',\n",
       " 'toughness': '3',\n",
       " 'colors': ['R'],\n",
       " 'color_identity': ['R'],\n",
       " 'keywords': [],\n",
       " 'legalities': {'standard': 'not_legal',\n",
       "  'future': 'not_legal',\n",
       "  'historic': 'not_legal',\n",
       "  'gladiator': 'not_legal',\n",
       "  'pioneer': 'not_legal',\n",
       "  'modern': 'legal',\n",
       "  'legacy': 'legal',\n",
       "  'pauper': 'not_legal',\n",
       "  'vintage': 'legal',\n",
       "  'penny': 'legal',\n",
       "  'commander': 'legal',\n",
       "  'brawl': 'not_legal',\n",
       "  'historicbrawl': 'not_legal',\n",
       "  'paupercommander': 'restricted',\n",
       "  'duel': 'legal',\n",
       "  'oldschool': 'not_legal',\n",
       "  'premodern': 'not_legal'},\n",
       " 'games': ['paper', 'mtgo'],\n",
       " 'reserved': False,\n",
       " 'foil': True,\n",
       " 'nonfoil': True,\n",
       " 'finishes': ['nonfoil', 'foil'],\n",
       " 'oversized': False,\n",
       " 'promo': False,\n",
       " 'reprint': False,\n",
       " 'variation': False,\n",
       " 'set_id': 'c1d109bc-ffd8-428f-8d7d-3f8d7e648046',\n",
       " 'set': 'tsp',\n",
       " 'set_name': 'Time Spiral',\n",
       " 'set_type': 'expansion',\n",
       " 'set_uri': 'https://api.scryfall.com/sets/c1d109bc-ffd8-428f-8d7d-3f8d7e648046',\n",
       " 'set_search_uri': 'https://api.scryfall.com/cards/search?order=set&q=e%3Atsp&unique=prints',\n",
       " 'scryfall_set_uri': 'https://scryfall.com/sets/tsp?utm_source=api',\n",
       " 'rulings_uri': 'https://api.scryfall.com/cards/0000579f-7b35-4ed3-b44c-db2a538066fe/rulings',\n",
       " 'prints_search_uri': 'https://api.scryfall.com/cards/search?order=released&q=oracleid%3A44623693-51d6-49ad-8cd7-140505caf02f&unique=prints',\n",
       " 'collector_number': '157',\n",
       " 'digital': False,\n",
       " 'rarity': 'uncommon',\n",
       " 'flavor_text': '\"A rift opened, and our arrows were abruptly stilled. To move was to push the world. But the sliver\\'s claw still twitched, red wounds appeared in Thed\\'s chest, and ribbons of blood hung in the air.\"\\n—Adom Capashen, Benalish hero',\n",
       " 'card_back_id': '0aeebaf5-8c7d-4636-9e82-8c27447861f7',\n",
       " 'artist': 'Paolo Parente',\n",
       " 'artist_ids': ['d48dd097-720d-476a-8722-6a02854ae28b'],\n",
       " 'illustration_id': '2fcca987-364c-4738-a75b-099d8a26d614',\n",
       " 'border_color': 'black',\n",
       " 'frame': '2003',\n",
       " 'full_art': False,\n",
       " 'textless': False,\n",
       " 'booster': True,\n",
       " 'story_spotlight': False,\n",
       " 'edhrec_rank': 5275,\n",
       " 'prices': {'usd': '0.44',\n",
       "  'usd_foil': '1.53',\n",
       "  'usd_etched': None,\n",
       "  'eur': '0.09',\n",
       "  'eur_foil': '3.90',\n",
       "  'tix': '0.02'},\n",
       " 'related_uris': {'gatherer': 'https://gatherer.wizards.com/Pages/Card/Details.aspx?multiverseid=109722',\n",
       "  'tcgplayer_infinite_articles': 'https://infinite.tcgplayer.com/search?contentMode=article&game=magic&partner=scryfall&q=Fury+Sliver&utm_campaign=affiliate&utm_medium=api&utm_source=scryfall',\n",
       "  'tcgplayer_infinite_decks': 'https://infinite.tcgplayer.com/search?contentMode=deck&game=magic&partner=scryfall&q=Fury+Sliver&utm_campaign=affiliate&utm_medium=api&utm_source=scryfall',\n",
       "  'edhrec': 'https://edhrec.com/route/?cc=Fury+Sliver',\n",
       "  'mtgtop8': 'https://mtgtop8.com/search?MD_check=1&SB_check=1&cards=Fury+Sliver'}}"
      ]
     },
     "execution_count": 10,
     "metadata": {},
     "output_type": "execute_result"
    }
   ],
   "source": [
    "art[0]"
   ]
  },
  {
   "cell_type": "code",
   "execution_count": null,
   "metadata": {},
   "outputs": [],
   "source": []
  }
 ],
 "metadata": {
  "kernelspec": {
   "display_name": "MTGaf",
   "language": "python",
   "name": "mtgaf"
  },
  "language_info": {
   "codemirror_mode": {
    "name": "ipython",
    "version": 3
   },
   "file_extension": ".py",
   "mimetype": "text/x-python",
   "name": "python",
   "nbconvert_exporter": "python",
   "pygments_lexer": "ipython3",
   "version": "3.8.5"
  }
 },
 "nbformat": 4,
 "nbformat_minor": 4
}
